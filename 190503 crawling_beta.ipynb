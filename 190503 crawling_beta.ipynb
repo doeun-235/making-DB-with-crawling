{
 "cells": [
  {
   "cell_type": "markdown",
   "metadata": {},
   "source": [
    "예외처리 어떻게 해야하나 확인"
   ]
  },
  {
   "cell_type": "code",
   "execution_count": 1,
   "metadata": {},
   "outputs": [],
   "source": [
    "from bs4 import BeautifulSoup\n",
    "import requests\n",
    "import re\n",
    "from datetime import timedelta\n",
    "import datetime\n",
    "import urllib.parse\n",
    "import numpy as np\n",
    "import pandas as pd\n",
    "from time import sleep\n",
    "import pickle\n",
    "\n",
    "import os\n",
    "import glob"
   ]
  },
  {
   "cell_type": "code",
   "execution_count": 2,
   "metadata": {},
   "outputs": [
    {
     "data": {
      "text/plain": [
       "'C:\\\\Users\\\\TAK\\\\Desktop\\\\Data\\\\Lectures\\\\Others\\\\coding\\\\기타 코딩\\\\1905 퀴퍼 셋리스트 크롤링'"
      ]
     },
     "execution_count": 2,
     "metadata": {},
     "output_type": "execute_result"
    }
   ],
   "source": [
    "os.getcwd()"
   ]
  },
  {
   "cell_type": "code",
   "execution_count": 3,
   "metadata": {},
   "outputs": [
    {
     "data": {
      "text/plain": [
       "['190503 데이터크롤링_alpha.ipynb',\n",
       " '190503 데이터크롤링_beta.ipynb',\n",
       " '190503 퀴퍼 셋리스트 크롤링 v.1.ipynb',\n",
       " 'input_test.xlsx',\n",
       " '셋리스트(to.나무거북이).xlsx']"
      ]
     },
     "execution_count": 3,
     "metadata": {},
     "output_type": "execute_result"
    }
   ],
   "source": [
    "glob.glob(\"*.*\")"
   ]
  },
  {
   "cell_type": "code",
   "execution_count": 4,
   "metadata": {},
   "outputs": [
    {
     "data": {
      "text/html": [
       "<div>\n",
       "<style scoped>\n",
       "    .dataframe tbody tr th:only-of-type {\n",
       "        vertical-align: middle;\n",
       "    }\n",
       "\n",
       "    .dataframe tbody tr th {\n",
       "        vertical-align: top;\n",
       "    }\n",
       "\n",
       "    .dataframe thead th {\n",
       "        text-align: right;\n",
       "    }\n",
       "</style>\n",
       "<table border=\"1\" class=\"dataframe\">\n",
       "  <thead>\n",
       "    <tr style=\"text-align: right;\">\n",
       "      <th></th>\n",
       "      <th>Num</th>\n",
       "      <th>Input_artist</th>\n",
       "      <th>Input_Name</th>\n",
       "    </tr>\n",
       "  </thead>\n",
       "  <tbody>\n",
       "    <tr>\n",
       "      <th>0</th>\n",
       "      <td>1</td>\n",
       "      <td>김수희</td>\n",
       "      <td>남행열차</td>\n",
       "    </tr>\n",
       "    <tr>\n",
       "      <th>1</th>\n",
       "      <td>2</td>\n",
       "      <td>소녀시대</td>\n",
       "      <td>다시 만난 세계</td>\n",
       "    </tr>\n",
       "    <tr>\n",
       "      <th>2</th>\n",
       "      <td>3</td>\n",
       "      <td>Queen</td>\n",
       "      <td>We will rock you</td>\n",
       "    </tr>\n",
       "    <tr>\n",
       "      <th>3</th>\n",
       "      <td>4</td>\n",
       "      <td>코리아나</td>\n",
       "      <td>손에 손 잡고</td>\n",
       "    </tr>\n",
       "    <tr>\n",
       "      <th>4</th>\n",
       "      <td>5</td>\n",
       "      <td>이선희</td>\n",
       "      <td>아름다운 강산</td>\n",
       "    </tr>\n",
       "  </tbody>\n",
       "</table>\n",
       "</div>"
      ],
      "text/plain": [
       "   Num Input_artist        Input_Name\n",
       "0    1          김수희              남행열차\n",
       "1    2         소녀시대          다시 만난 세계\n",
       "2    3        Queen  We will rock you\n",
       "3    4         코리아나           손에 손 잡고\n",
       "4    5          이선희           아름다운 강산"
      ]
     },
     "execution_count": 4,
     "metadata": {},
     "output_type": "execute_result"
    }
   ],
   "source": [
    "#잘 불러와지나 테스트\n",
    "\n",
    "df0=pd.read_excel('input_test.xlsx',header = 0,encoding='UTF-8').fillna(0) #header : 앞에 1줄 제외하려고. fillna(0)은 빈칸을 0으로 만들기 위해서\n",
    "#resd_excel에서 csv파일을 위와 같은 형태의 식으로 부르면 오류가 생김. csv 파일에서는 header 기능을 쓸 수 없을 것으로 보이는 데 그 때문 같다.\n",
    "\n",
    "df0.head()"
   ]
  },
  {
   "cell_type": "code",
   "execution_count": 5,
   "metadata": {},
   "outputs": [],
   "source": [
    "n=len(df0.index)"
   ]
  },
  {
   "cell_type": "code",
   "execution_count": 6,
   "metadata": {},
   "outputs": [],
   "source": [
    "from selenium import webdriver #리모컨 가져온다는 느낌"
   ]
  },
  {
   "cell_type": "code",
   "execution_count": 7,
   "metadata": {},
   "outputs": [
    {
     "name": "stdout",
     "output_type": "stream",
     "text": [
      "카드캡터 체리 OST Catch you Catch me\n"
     ]
    }
   ],
   "source": [
    "#test\n",
    "i=1\n",
    "inArtist = df0.iloc[i][1]\n",
    "inSongName = df0.iloc[i][2]\n",
    "\n",
    "inArtist = \"카드캡터 체리 OST\"\n",
    "inSongName = \"Catch you Catch me\"\n",
    "print (inArtist,inSongName)"
   ]
  },
  {
   "cell_type": "code",
   "execution_count": 8,
   "metadata": {},
   "outputs": [
    {
     "data": {
      "text/plain": [
       "str"
      ]
     },
     "execution_count": 8,
     "metadata": {},
     "output_type": "execute_result"
    }
   ],
   "source": [
    "type(inArtist)"
   ]
  },
  {
   "cell_type": "code",
   "execution_count": 9,
   "metadata": {},
   "outputs": [],
   "source": [
    "# 제어용 웹 드라이버 설정\n",
    "browser=webdriver.Chrome('C:/chromedriver/chromedriver.exe')"
   ]
  },
  {
   "cell_type": "code",
   "execution_count": 10,
   "metadata": {},
   "outputs": [
    {
     "name": "stdout",
     "output_type": "stream",
     "text": [
      "카\n"
     ]
    }
   ],
   "source": [
    "#한글을 url에 쓰이는 utf-8 코드로 변환해보기_1\n",
    "\n",
    "AAAAA=inArtist+\" \"+inSongName\n",
    "print (AAAAA[0])\n",
    "tt=str(\"레\".encode(\"utf-8\"))\n",
    "YY=tt.split(\"\\\\x\")\n",
    "PP=\"\"\n",
    "for i in range(len(YY)) :\n",
    "    if i == len(YY)-1 :\n",
    "        PP=PP+\"%\"+YY[i][:-1]    \n",
    "    elif i != 0 :\n",
    "        PP=PP+\"%\"+YY[i]"
   ]
  },
  {
   "cell_type": "code",
   "execution_count": 11,
   "metadata": {},
   "outputs": [
    {
     "name": "stdout",
     "output_type": "stream",
     "text": [
      "%ec%b9%b4%eb%93%9c%ec%ba%a1%ed%84%b0%20%ec%b2%b4%eb%a6%ac%20%b'O%b'S%b'T%20%b'C%b'a%b't%b'c%b'h%20%b'y%b'o%b'u%20%b'C%b'a%b't%b'c%b'h%20%b'm%b'e\n"
     ]
    },
    {
     "data": {
      "text/plain": [
       "False"
      ]
     },
     "execution_count": 11,
     "metadata": {},
     "output_type": "execute_result"
    }
   ],
   "source": [
    "#한글을 url에 쓰이는 utf-8 코드로 변환해보기_2\n",
    "ppp=\"\"\n",
    "for _ in range(len(AAAAA)) :\n",
    "    if AAAAA[_]==\" \" :\n",
    "        ppp=ppp+\"%20\"\n",
    "    else :\n",
    "        tt=str(AAAAA[_].encode(\"utf-8\"))\n",
    "        YY=tt.split(\"\\\\x\")\n",
    "        for i in range(len(YY)) :\n",
    "            if i == len(YY)-1 :\n",
    "                ppp=ppp+\"%\"+YY[i][:-1]\n",
    "            elif i != 0 :\n",
    "                ppp=ppp+\"%\"+YY[i]\n",
    "\n",
    "print (ppp)\n",
    "\n",
    "tttttt=\"%EB%A0%88%EB%93%9C%20%EB%B2%A8%EB%B2%B3%20%EB%B9%A8%EA%B0%84%20%EB%A7%9B\"\n",
    "\n",
    "ppp.upper()==tttttt"
   ]
  },
  {
   "cell_type": "code",
   "execution_count": 12,
   "metadata": {},
   "outputs": [
    {
     "data": {
      "text/plain": [
       "'https://www.genie.co.kr/search/searchMain?query=카드캡터 체리 OST Catch you Catch me'"
      ]
     },
     "execution_count": 12,
     "metadata": {},
     "output_type": "execute_result"
    }
   ],
   "source": [
    "url=\"https://www.genie.co.kr/search/searchMain?query=\"+inArtist+\" \"+inSongName\n",
    "url"
   ]
  },
  {
   "cell_type": "code",
   "execution_count": 13,
   "metadata": {},
   "outputs": [],
   "source": [
    "browser.get(url)"
   ]
  },
  {
   "cell_type": "code",
   "execution_count": 14,
   "metadata": {},
   "outputs": [
    {
     "data": {
      "text/plain": [
       "'https://www.genie.co.kr/search/searchMain?query=%EC%B9%B4%EB%93%9C%EC%BA%A1%ED%84%B0%20%EC%B2%B4%EB%A6%AC%20OST%20Catch%20you%20Catch%20me'"
      ]
     },
     "execution_count": 14,
     "metadata": {},
     "output_type": "execute_result"
    }
   ],
   "source": [
    "browser.current_url #이게 그냥 ord 함수로 ascii로 바꾼 걸 16진수로 바꾼건 아니고 utf-8코드로 바꿔야 함."
   ]
  },
  {
   "cell_type": "code",
   "execution_count": 15,
   "metadata": {},
   "outputs": [],
   "source": [
    "url=browser.current_url #크롬 드라이버에서 현재 접속해 이쓴ㄴ 주소"
   ]
  },
  {
   "cell_type": "code",
   "execution_count": 16,
   "metadata": {},
   "outputs": [],
   "source": [
    "headers = {'User-Agent' : 'Mozilla/5.0 (Windows NT 6.1; Win64; x64) AppleWebKit/537.36 (KHTML, like Gecko) Chrome/73.0.3683.103 Safari/537.36'}\n",
    "resp = requests.get(url, headers = headers)\n",
    "soup = BeautifulSoup(resp.text, 'html.parser')\n",
    "\n",
    "# 헤더를 지정하지 않고 크롤링을 하면 보안 문제로 접속이 안됨. 아래 블로그에서 유저 정보 참고해서 header에 값 대입해서 하면 됨\n",
    "# http://blog.naver.com/PostView.nhn?blogId=kiddwannabe&logNo=221185808375"
   ]
  },
  {
   "cell_type": "code",
   "execution_count": 18,
   "metadata": {},
   "outputs": [
    {
     "data": {
      "text/plain": [
       "[<tr class=\"list\">\n",
       " <td class=\"none\" colspan=\"11\">등록된 곡이 없습니다.</td>\n",
       " </tr>]"
      ]
     },
     "execution_count": 18,
     "metadata": {},
     "output_type": "execute_result"
    }
   ],
   "source": [
    "soup.find_all('tr', attrs={'class':'list'})\n",
    "#tr 들어간거 다 찾는건데 개중에 class가 list인 것만"
   ]
  },
  {
   "cell_type": "code",
   "execution_count": 19,
   "metadata": {},
   "outputs": [
    {
     "data": {
      "text/plain": [
       "False"
      ]
     },
     "execution_count": 19,
     "metadata": {},
     "output_type": "execute_result"
    }
   ],
   "source": [
    "len(soup.find_all('tr', attrs={'class':'list'}))==0"
   ]
  },
  {
   "cell_type": "code",
   "execution_count": 25,
   "metadata": {},
   "outputs": [
    {
     "data": {
      "text/plain": [
       "1"
      ]
     },
     "execution_count": 25,
     "metadata": {},
     "output_type": "execute_result"
    }
   ],
   "source": [
    "len(soup.find_all('tr', attrs={'class':'list'}))"
   ]
  },
  {
   "cell_type": "code",
   "execution_count": 27,
   "metadata": {},
   "outputs": [
    {
     "data": {
      "text/plain": [
       "'\\n등록된 곡이 없습니다.\\n'"
      ]
     },
     "execution_count": 27,
     "metadata": {},
     "output_type": "execute_result"
    }
   ],
   "source": [
    "soup.find_all('tr', attrs={'class':'list'})[0].text"
   ]
  },
  {
   "cell_type": "code",
   "execution_count": 28,
   "metadata": {},
   "outputs": [
    {
     "data": {
      "text/plain": [
       "True"
      ]
     },
     "execution_count": 28,
     "metadata": {},
     "output_type": "execute_result"
    }
   ],
   "source": [
    "soup.find_all('tr', attrs={'class':'list'})[0].text==\"\\n등록된 곡이 없습니다.\\n\""
   ]
  },
  {
   "cell_type": "code",
   "execution_count": null,
   "metadata": {},
   "outputs": [],
   "source": []
  }
 ],
 "metadata": {
  "kernelspec": {
   "display_name": "Python 3",
   "language": "python",
   "name": "python3"
  },
  "language_info": {
   "codemirror_mode": {
    "name": "ipython",
    "version": 3
   },
   "file_extension": ".py",
   "mimetype": "text/x-python",
   "name": "python",
   "nbconvert_exporter": "python",
   "pygments_lexer": "ipython3",
   "version": "3.6.8"
  }
 },
 "nbformat": 4,
 "nbformat_minor": 2
}
