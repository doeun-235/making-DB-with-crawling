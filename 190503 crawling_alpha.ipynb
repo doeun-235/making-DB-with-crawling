{
 "cells": [
  {
   "cell_type": "markdown",
   "metadata": {},
   "source": [
    "# 데이터 크롤링 실습\n",
    "\n",
    "트젠퀴 트럭 부스의 셋 리스트를 엑셀로 입력 받아서, 해당 음악에 대한 길이를 지니에서 beatifulsoup과 selenium으로 데이터를 찾아서 다시 엑셀 형태로 출력하자\n",
    "\n",
    "0 엑셀로 데이터 받기\n",
    "\n",
    "-입력 폼은 번호/아티스트/제목\n",
    "\n",
    "1 지니에서 음악 검색\n",
    "\n",
    "2 첫번째로 나오는 것 클릭해서 들어가서, 아티스트 / 제목 / 재생시간 따와서 append 하기 - 검색해서 나오는게 없으면 에러처리하기\n",
    "\n",
    "-출력 폼은 번호/(입력)아티스트/(입력)제목/(검색결과)아티스트/(검색결과)제목/(검색결과)재생시간/비고\n",
    "\n",
    "참고 : https://mrxx.tistory.com/69?category=760049, 언더스코어 강의, nims academy 강의"
   ]
  },
  {
   "cell_type": "code",
   "execution_count": 1,
   "metadata": {},
   "outputs": [],
   "source": [
    "from bs4 import BeautifulSoup\n",
    "import requests\n",
    "import re\n",
    "from datetime import timedelta\n",
    "import datetime\n",
    "import urllib.parse\n",
    "import numpy as np\n",
    "import pandas as pd\n",
    "from time import sleep\n",
    "import pickle\n",
    "\n",
    "import os\n",
    "import glob"
   ]
  },
  {
   "cell_type": "code",
   "execution_count": 2,
   "metadata": {},
   "outputs": [
    {
     "data": {
      "text/plain": [
       "'C:\\\\Users\\\\TAK\\\\Desktop\\\\Data\\\\Lectures\\\\Others\\\\기타 코딩'"
      ]
     },
     "execution_count": 2,
     "metadata": {},
     "output_type": "execute_result"
    }
   ],
   "source": [
    "os.getcwd()"
   ]
  },
  {
   "cell_type": "code",
   "execution_count": 3,
   "metadata": {},
   "outputs": [
    {
     "data": {
      "text/plain": [
       "['190503 데이터크롤링 실습.ipynb', 'input_test.xlsx']"
      ]
     },
     "execution_count": 3,
     "metadata": {},
     "output_type": "execute_result"
    }
   ],
   "source": [
    "glob.glob(\"*.*\")"
   ]
  },
  {
   "cell_type": "code",
   "execution_count": 4,
   "metadata": {},
   "outputs": [
    {
     "data": {
      "text/html": [
       "<div>\n",
       "<style scoped>\n",
       "    .dataframe tbody tr th:only-of-type {\n",
       "        vertical-align: middle;\n",
       "    }\n",
       "\n",
       "    .dataframe tbody tr th {\n",
       "        vertical-align: top;\n",
       "    }\n",
       "\n",
       "    .dataframe thead th {\n",
       "        text-align: right;\n",
       "    }\n",
       "</style>\n",
       "<table border=\"1\" class=\"dataframe\">\n",
       "  <thead>\n",
       "    <tr style=\"text-align: right;\">\n",
       "      <th></th>\n",
       "      <th>Num</th>\n",
       "      <th>Input_artist</th>\n",
       "      <th>Input_Name</th>\n",
       "    </tr>\n",
       "  </thead>\n",
       "  <tbody>\n",
       "    <tr>\n",
       "      <th>0</th>\n",
       "      <td>1</td>\n",
       "      <td>레드 벨벳</td>\n",
       "      <td>빨간 맛</td>\n",
       "    </tr>\n",
       "    <tr>\n",
       "      <th>1</th>\n",
       "      <td>2</td>\n",
       "      <td>레드 벨벳</td>\n",
       "      <td>ice cream cake</td>\n",
       "    </tr>\n",
       "    <tr>\n",
       "      <th>2</th>\n",
       "      <td>3</td>\n",
       "      <td>기하서</td>\n",
       "      <td>복소해석학</td>\n",
       "    </tr>\n",
       "  </tbody>\n",
       "</table>\n",
       "</div>"
      ],
      "text/plain": [
       "   Num Input_artist      Input_Name\n",
       "0    1        레드 벨벳            빨간 맛\n",
       "1    2        레드 벨벳  ice cream cake\n",
       "2    3         기하서            복소해석학"
      ]
     },
     "execution_count": 4,
     "metadata": {},
     "output_type": "execute_result"
    }
   ],
   "source": [
    "#잘 불러와지나 테스트\n",
    "\n",
    "df0=pd.read_excel('input_test.xlsx',header = 0,encoding='UTF-8').fillna(0) #header : 앞에 1줄 제외하려고. fillna(0)은 빈칸을 0으로 만들기 위해서\n",
    "#resd_excel에서 csv파일을 위와 같은 형태의 식으로 부르면 오류가 생김. csv 파일에서는 header 기능을 쓸 수 없을 것으로 보이는 데 그 때문 같다.\n",
    "\n",
    "df0.head()"
   ]
  },
  {
   "cell_type": "code",
   "execution_count": 5,
   "metadata": {},
   "outputs": [],
   "source": [
    "n=len(df0.index)"
   ]
  },
  {
   "cell_type": "code",
   "execution_count": 6,
   "metadata": {},
   "outputs": [],
   "source": [
    "from selenium import webdriver #리모컨 가져온다는 느낌"
   ]
  },
  {
   "cell_type": "code",
   "execution_count": 7,
   "metadata": {},
   "outputs": [
    {
     "name": "stdout",
     "output_type": "stream",
     "text": [
      "레드 벨벳 빨간 맛\n"
     ]
    }
   ],
   "source": [
    "#test\n",
    "i=0\n",
    "inArtist = df0.iloc[i][1]\n",
    "inSongName = df0.iloc[i][2]\n",
    "\n",
    "print (inArtist,inSongName)"
   ]
  },
  {
   "cell_type": "code",
   "execution_count": 8,
   "metadata": {},
   "outputs": [
    {
     "data": {
      "text/plain": [
       "str"
      ]
     },
     "execution_count": 8,
     "metadata": {},
     "output_type": "execute_result"
    }
   ],
   "source": [
    "type(inArtist)"
   ]
  },
  {
   "cell_type": "code",
   "execution_count": 9,
   "metadata": {},
   "outputs": [],
   "source": [
    "# 제어용 웹 드라이버 설정\n",
    "browser=webdriver.Chrome('C:/chromedriver/chromedriver.exe')"
   ]
  },
  {
   "cell_type": "code",
   "execution_count": 10,
   "metadata": {},
   "outputs": [
    {
     "name": "stdout",
     "output_type": "stream",
     "text": [
      "레\n"
     ]
    }
   ],
   "source": [
    "#한글을 url에 쓰이는 utf-8 코드로 변환해보기_1\n",
    "\n",
    "AAAAA=inArtist+\" \"+inSongName\n",
    "print (AAAAA[0])\n",
    "tt=str(\"레\".encode(\"utf-8\"))\n",
    "YY=tt.split(\"\\\\x\")\n",
    "PP=\"\"\n",
    "for i in range(len(YY)) :\n",
    "    if i == len(YY)-1 :\n",
    "        PP=PP+\"%\"+YY[i][:-1]    \n",
    "    elif i != 0 :\n",
    "        PP=PP+\"%\"+YY[i]"
   ]
  },
  {
   "cell_type": "code",
   "execution_count": 11,
   "metadata": {},
   "outputs": [
    {
     "name": "stdout",
     "output_type": "stream",
     "text": [
      "%eb%a0%88%eb%93%9c%20%eb%b2%a8%eb%b2%b3%20%eb%b9%a8%ea%b0%84%20%eb%a7%9b\n"
     ]
    },
    {
     "data": {
      "text/plain": [
       "True"
      ]
     },
     "execution_count": 11,
     "metadata": {},
     "output_type": "execute_result"
    }
   ],
   "source": [
    "#한글을 url에 쓰이는 utf-8 코드로 변환해보기_2\n",
    "ppp=\"\"\n",
    "for _ in range(len(AAAAA)) :\n",
    "    if AAAAA[_]==\" \" :\n",
    "        ppp=ppp+\"%20\"\n",
    "    else :\n",
    "        tt=str(AAAAA[_].encode(\"utf-8\"))\n",
    "        YY=tt.split(\"\\\\x\")\n",
    "        for i in range(len(YY)) :\n",
    "            if i == len(YY)-1 :\n",
    "                ppp=ppp+\"%\"+YY[i][:-1]\n",
    "            elif i != 0 :\n",
    "                ppp=ppp+\"%\"+YY[i]\n",
    "\n",
    "print (ppp)\n",
    "\n",
    "tttttt=\"%EB%A0%88%EB%93%9C%20%EB%B2%A8%EB%B2%B3%20%EB%B9%A8%EA%B0%84%20%EB%A7%9B\"\n",
    "\n",
    "ppp.upper()==tttttt"
   ]
  },
  {
   "cell_type": "code",
   "execution_count": 12,
   "metadata": {},
   "outputs": [
    {
     "data": {
      "text/plain": [
       "'https://www.genie.co.kr/search/searchMain?query=레드 벨벳 빨간 맛'"
      ]
     },
     "execution_count": 12,
     "metadata": {},
     "output_type": "execute_result"
    }
   ],
   "source": [
    "url=\"https://www.genie.co.kr/search/searchMain?query=\"+inArtist+\" \"+inSongName\n",
    "url"
   ]
  },
  {
   "cell_type": "code",
   "execution_count": 13,
   "metadata": {},
   "outputs": [],
   "source": [
    "browser.get(url)"
   ]
  },
  {
   "cell_type": "code",
   "execution_count": 14,
   "metadata": {},
   "outputs": [
    {
     "data": {
      "text/plain": [
       "'https://www.genie.co.kr/search/searchMain?query=%EB%A0%88%EB%93%9C%20%EB%B2%A8%EB%B2%B3%20%EB%B9%A8%EA%B0%84%20%EB%A7%9B'"
      ]
     },
     "execution_count": 14,
     "metadata": {},
     "output_type": "execute_result"
    }
   ],
   "source": [
    "browser.current_url #이게 그냥 ord 함수로 ascii로 바꾼 걸 16진수로 바꾼건 아니고 utf-8코드로 바꿔야 함."
   ]
  },
  {
   "cell_type": "code",
   "execution_count": 15,
   "metadata": {},
   "outputs": [],
   "source": [
    "url=browser.current_url #크롬 드라이버에서 현재 접속해 이쓴ㄴ 주소"
   ]
  },
  {
   "cell_type": "code",
   "execution_count": 16,
   "metadata": {},
   "outputs": [],
   "source": [
    "headers = {'User-Agent' : 'Mozilla/5.0 (Windows NT 6.1; Win64; x64) AppleWebKit/537.36 (KHTML, like Gecko) Chrome/73.0.3683.103 Safari/537.36'}\n",
    "resp = requests.get(url, headers = headers)\n",
    "soup = BeautifulSoup(resp.text, 'html.parser')\n",
    "\n",
    "# 헤더를 지정하지 않고 크롤링을 하면 보안 문제로 접속이 안됨. 아래 블로그에서 유저 정보 참고해서 header에 값 대입해서 하면 됨\n",
    "# http://blog.naver.com/PostView.nhn?blogId=kiddwannabe&logNo=221185808375"
   ]
  },
  {
   "cell_type": "code",
   "execution_count": 17,
   "metadata": {},
   "outputs": [
    {
     "data": {
      "text/plain": [
       "[<tr class=\"list\" songid=\"87270282\">\n",
       " <td class=\"check\"><input class=\"select-check\" title=\"빨간 맛 (red flavor)\n",
       " \" type=\"checkbox\"/></td>\n",
       " <td class=\"number\">1</td>\n",
       " <td><a class=\"cover\" href=\"#\" onclick=\"fnViewAlbumLayer('80964658');return false;\"><span class=\"mask\"></span><img alt=\"빨간 맛 (Red Flavor)\" onerror=\"this.src='//image.genie.co.kr/imageg/web/common/blank_68.gif';\" src=\"//image.genie.co.kr/Y/IMAGE/IMG_ALBUM/080/964/658/80964658_1499421855077_1_140x140.JPG\"/></a></td>\n",
       " <td class=\"link\"><a class=\"btn-basic btn-info\" href=\"#\" onclick=\"fnViewSongInfo('87270282');return false;\">곡 제목 정보 페이지</a></td>\n",
       " <td class=\"info\">\n",
       " <a class=\"title ellipsis\" href=\"#\" onclick=\"fnPlaySong('87270282;','1');return false;\" title=\"빨간 맛 (red flavor)\n",
       " \">\n",
       " <span class=\"icon icon-title\">TITLE</span>\n",
       " <span class=\"t_point\">빨간</span> <span class=\"t_point\">맛</span> (Red Flavor) </a>\n",
       " <a class=\"artist ellipsis\" href=\"#\" onclick=\"fnViewArtist('80284018');return false;\">Red Velvet (<span class=\"t_point\">레드벨벳</span>)</a>\n",
       " <div class=\"toggle-button-box\">\n",
       " <button class=\"btn artist-etc\" onclick=\"fnRelationArtistList('87270282');\" type=\"button\">외</button>\n",
       " <ul class=\"list\" id=\"RelationArtist_87270282\"></ul>\n",
       " </div>\n",
       " <i class=\"bar\">|</i>\n",
       " <a class=\"albumtitle ellipsis\" href=\"#\" onclick=\"fnViewAlbumLayer('80964658');return false;\">The Red Summer - Summer Mini Album</a>\n",
       " </td>\n",
       " <td class=\"btns\"><a class=\"btn-basic btn-listen\" href=\"#\" onclick=\"fnPlaySong('87270282;','1');return false;\" title=\"재생\">듣기</a></td>\n",
       " <td class=\"btns\"><a class=\"btn-basic btn-add\" href=\"#\" onclick=\"fnPlaySong('87270282;','3');return false;\" title=\"추가\">재생목록에 추가</a></td>\n",
       " <td class=\"btns\"><button class=\"btn-basic btn-album\" id=\"add_my_album_87270282\" onclick=\"fnAddMyAlbumForm('#add_my_album_87270282', '87270282',10, 10);return false;\" songid=\"87270282\" title=\"담기\" type=\"button\">마이앨범에 담기</button></td>\n",
       " <td class=\"btns\"><a class=\"btn-basic btn-down\" href=\"#\" onclick=\"fnDownSong('87270282');return false;\" title=\"다운\">다운로드</a></td>\n",
       " <td class=\"btns\">\n",
       " <div class=\"toggle-button-box lyr-mv\" id=\"list-mv_87270282\">\n",
       " <a class=\"btn btn-basic btn-mv\" href=\"#\" onclick=\"fnPlayMv('87270282','3'); return false;\">뮤직비디오 보기</a>\n",
       " </div>\n",
       " </td>\n",
       " <td class=\"more\">\n",
       " <div class=\"toggle-button-box\">\n",
       " <button class=\"btn btn-basic btn-more\" type=\"button\">더보기</button>\n",
       " <ul class=\"list\">\n",
       " <li><a class=\"item\" href=\"#\" onclick=\"shareDo('87270282');return false;\" title=\"공유\">공유하기/음악나누기</a></li>\n",
       " <li><a class=\"item\" href=\"#\" onclick=\"fnGiftSong('87270282');return false;\" title=\"선물\">선물하기</a></li>\n",
       " </ul>\n",
       " </div>\n",
       " </td>\n",
       " </tr>, <tr class=\"list\" songid=\"87431659\">\n",
       " <td class=\"check\"><input class=\"select-check\" title=\"빨간 맛 (red flavor) (레드벨벳) (melody mr)\n",
       " \" type=\"checkbox\"/></td>\n",
       " <td class=\"number\">2</td>\n",
       " <td><a class=\"cover\" href=\"#\" onclick=\"fnViewAlbumLayer('80986295');return false;\"><span class=\"mask\"></span><img alt=\"빨간 맛 (Red Flavor) (레드벨벳) (Melody MR)\" onerror=\"this.src='//image.genie.co.kr/imageg/web/common/blank_68.gif';\" src=\"//image.genie.co.kr/Y/IMAGE/IMG_ALBUM/080/986/295/80986295_1505093982158_1_140x140.JPG\"/></a></td>\n",
       " <td class=\"link\"><a class=\"btn-basic btn-info\" href=\"#\" onclick=\"fnViewSongInfo('87431659');return false;\">곡 제목 정보 페이지</a></td>\n",
       " <td class=\"info\">\n",
       " <a class=\"title ellipsis\" href=\"#\" onclick=\"fnPlaySong('87431659;','1');return false;\" title=\"빨간 맛 (red flavor) (레드벨벳) (melody mr)\n",
       " \">\n",
       " <span class=\"t_point\">빨간</span> <span class=\"t_point\">맛</span> (Red Flavor) (<span class=\"t_point\">레드벨벳</span>) (Melody MR) </a>\n",
       " <a class=\"artist ellipsis\" href=\"#\" onclick=\"fnViewArtist('80329985');return false;\">모두의MR</a>\n",
       " <i class=\"bar\">|</i>\n",
       " <a class=\"albumtitle ellipsis\" href=\"#\" onclick=\"fnViewAlbumLayer('80986295');return false;\">모두의 MR반주 87</a>\n",
       " </td>\n",
       " <td class=\"btns\"><a class=\"btn-basic btn-listen\" href=\"#\" onclick=\"fnPlaySong('87431659;','1');return false;\" title=\"재생\">듣기</a></td>\n",
       " <td class=\"btns\"><a class=\"btn-basic btn-add\" href=\"#\" onclick=\"fnPlaySong('87431659;','3');return false;\" title=\"추가\">재생목록에 추가</a></td>\n",
       " <td class=\"btns\"><button class=\"btn-basic btn-album\" id=\"add_my_album_87431659\" onclick=\"fnAddMyAlbumForm('#add_my_album_87431659', '87431659',10, 10);return false;\" songid=\"87431659\" title=\"담기\" type=\"button\">마이앨범에 담기</button></td>\n",
       " <td class=\"btns\"><a class=\"btn-basic btn-down\" href=\"#\" onclick=\"fnDownSong('87431659');return false;\" title=\"다운\">다운로드</a></td>\n",
       " <td class=\"btns\">\n",
       " <div class=\"toggle-button-box lyr-mv\" id=\"list-mv_87431659\">\n",
       " <a class=\"btn btn-basic btn-mv disabled\" href=\"#\" onclick=\"return false;\" title=\"재생 불가\">뮤직비디오 보기</a>\n",
       " </div>\n",
       " </td>\n",
       " <td class=\"more\">\n",
       " <div class=\"toggle-button-box\">\n",
       " <button class=\"btn btn-basic btn-more\" type=\"button\">더보기</button>\n",
       " <ul class=\"list\">\n",
       " <li><a class=\"item\" href=\"#\" onclick=\"shareDo('87431659');return false;\" title=\"공유\">공유하기/음악나누기</a></li>\n",
       " <li><a class=\"item\" href=\"#\" onclick=\"fnGiftSong('87431659');return false;\" title=\"선물\">선물하기</a></li>\n",
       " </ul>\n",
       " </div>\n",
       " </td>\n",
       " </tr>, <tr class=\"list\" songid=\"87431658\">\n",
       " <td class=\"check\"><input class=\"select-check\" title=\"빨간 맛 (red flavor) (레드벨벳) (mr)\n",
       " \" type=\"checkbox\"/></td>\n",
       " <td class=\"number\">3</td>\n",
       " <td><a class=\"cover\" href=\"#\" onclick=\"fnViewAlbumLayer('80986295');return false;\"><span class=\"mask\"></span><img alt=\"빨간 맛 (Red Flavor) (레드벨벳) (MR)\" onerror=\"this.src='//image.genie.co.kr/imageg/web/common/blank_68.gif';\" src=\"//image.genie.co.kr/Y/IMAGE/IMG_ALBUM/080/986/295/80986295_1505093982158_1_140x140.JPG\"/></a></td>\n",
       " <td class=\"link\"><a class=\"btn-basic btn-info\" href=\"#\" onclick=\"fnViewSongInfo('87431658');return false;\">곡 제목 정보 페이지</a></td>\n",
       " <td class=\"info\">\n",
       " <a class=\"title ellipsis\" href=\"#\" onclick=\"fnPlaySong('87431658;','1');return false;\" title=\"빨간 맛 (red flavor) (레드벨벳) (mr)\n",
       " \">\n",
       " <span class=\"t_point\">빨간</span> <span class=\"t_point\">맛</span> (Red Flavor) (<span class=\"t_point\">레드벨벳</span>) (MR) </a>\n",
       " <a class=\"artist ellipsis\" href=\"#\" onclick=\"fnViewArtist('80329985');return false;\">모두의MR</a>\n",
       " <i class=\"bar\">|</i>\n",
       " <a class=\"albumtitle ellipsis\" href=\"#\" onclick=\"fnViewAlbumLayer('80986295');return false;\">모두의 MR반주 87</a>\n",
       " </td>\n",
       " <td class=\"btns\"><a class=\"btn-basic btn-listen\" href=\"#\" onclick=\"fnPlaySong('87431658;','1');return false;\" title=\"재생\">듣기</a></td>\n",
       " <td class=\"btns\"><a class=\"btn-basic btn-add\" href=\"#\" onclick=\"fnPlaySong('87431658;','3');return false;\" title=\"추가\">재생목록에 추가</a></td>\n",
       " <td class=\"btns\"><button class=\"btn-basic btn-album\" id=\"add_my_album_87431658\" onclick=\"fnAddMyAlbumForm('#add_my_album_87431658', '87431658',10, 10);return false;\" songid=\"87431658\" title=\"담기\" type=\"button\">마이앨범에 담기</button></td>\n",
       " <td class=\"btns\"><a class=\"btn-basic btn-down\" href=\"#\" onclick=\"fnDownSong('87431658');return false;\" title=\"다운\">다운로드</a></td>\n",
       " <td class=\"btns\">\n",
       " <div class=\"toggle-button-box lyr-mv\" id=\"list-mv_87431658\">\n",
       " <a class=\"btn btn-basic btn-mv disabled\" href=\"#\" onclick=\"return false;\" title=\"재생 불가\">뮤직비디오 보기</a>\n",
       " </div>\n",
       " </td>\n",
       " <td class=\"more\">\n",
       " <div class=\"toggle-button-box\">\n",
       " <button class=\"btn btn-basic btn-more\" type=\"button\">더보기</button>\n",
       " <ul class=\"list\">\n",
       " <li><a class=\"item\" href=\"#\" onclick=\"shareDo('87431658');return false;\" title=\"공유\">공유하기/음악나누기</a></li>\n",
       " <li><a class=\"item\" href=\"#\" onclick=\"fnGiftSong('87431658');return false;\" title=\"선물\">선물하기</a></li>\n",
       " </ul>\n",
       " </div>\n",
       " </td>\n",
       " </tr>, <tr class=\"list\" songid=\"87270282\">\n",
       " <td><a class=\"cover\" href=\"#\" onclick=\"fnViewAlbumLayer('80964658'); return false;\"><span class=\"mask\"></span><img alt=\"빨간 맛 (Red Flavor)\" onerror=\"this.src='//image.genie.co.kr/imageg/web/common/blank_100.gif';\" src=\"//image.genie.co.kr/Y/IMAGE/IMG_ALBUM/080/964/658/80964658_1499421855077_1_140x140.JPG\"/></a></td>\n",
       " <td class=\"link\"><a class=\"btn-basic btn-info\" href=\"#\" onclick=\"fnViewSongInfo('87270282');return false;\">곡 제목 정보 페이지</a></td>\n",
       " <td class=\"info\">\n",
       " <a class=\"title ellipsis\" href=\"#\" onclick=\"fnPlaySong('87270282','1'); return false;\" title=\"빨간 맛 (Red Flavor)\">\n",
       " <span class=\"t_point\">빨간</span> <span class=\"t_point\">맛</span> (Red Flavor)</a>\n",
       " <a class=\"artist ellipsis\" href=\"#\" onclick=\"fnViewArtist('80284018');return false;\">Red Velvet (레드벨벳)</a>\n",
       " <i class=\"bar\">|</i>\n",
       " <a class=\"albumtitle ellipsis\" href=\"#\" onclick=\"fnViewAlbumLayer('80964658');return false;\">The Red Summer - Summer Mini Album</a>\n",
       " </td>\n",
       " <td class=\"btns\"><a class=\"btn-basic btn-listen\" href=\"#\" onclick=\"fnPlaySong('87270282;','1');return false;\" title=\"재생\">듣기</a></td>\n",
       " <td class=\"btns\"><a class=\"btn-basic btn-add\" href=\"#\" onclick=\"fnPlaySong('87270282;','3');return false;\" title=\"추가\">재생목록에 추가</a></td>\n",
       " <td class=\"btns\"><button class=\"btn-basic btn-album\" id=\"add_my_album_list_87270282\" onclick=\"fnAddMyAlbumForm('#add_my_album_list_87270282', 87270282,20, 20);return false;\" title=\"담기\" type=\"button\">마이앨범에 담기</button></td>\n",
       " <td class=\"btns\"><a class=\"btn-basic btn-down\" href=\"#\" onclick=\"fnDownSong('87270282');return false;\" title=\"다운\">다운로드</a></td>\n",
       " <td class=\"btns\">\n",
       " <div class=\"toggle-button-box lyr-mv\" id=\"list-mv_87270282_Second\">\n",
       " <a class=\"btn btn-basic btn-mv\" href=\"#\" onclick=\"fnPlayMv('87270282_Second','3'); return false;\">뮤직비디오 보기</a>\n",
       " </div>\n",
       " </td>\n",
       " <td class=\"more\">\n",
       " <div class=\"toggle-button-box\">\n",
       " <button class=\"btn btn-basic btn-more\" type=\"button\">더보기</button>\n",
       " <ul class=\"list\">\n",
       " <li><a class=\"item\" href=\"#\" onclick=\"shareDo('87270282');return false;\" title=\"공유\">공유하기/음악나누기</a></li>\n",
       " <li><a class=\"item\" href=\"#\" onclick=\"fnGiftSong('87270282');return false;\" title=\"선물\">선물하기</a></li>\n",
       " </ul>\n",
       " </div>\n",
       " </td>\n",
       " </tr>]"
      ]
     },
     "execution_count": 17,
     "metadata": {},
     "output_type": "execute_result"
    }
   ],
   "source": [
    "soup.find_all('tr', attrs={'class':'list'})\n",
    "#tr 들어간거 다 찾는건데 개중에 class가 list인 것만"
   ]
  },
  {
   "cell_type": "code",
   "execution_count": 18,
   "metadata": {},
   "outputs": [],
   "source": [
    "AA=str(soup.find_all('tr', attrs={'class':'list'})[0]) #현재 노래 별로 block이 잡혀있어서, 이렇게 하면 제일 먼저 검색된 게 올라옴"
   ]
  },
  {
   "cell_type": "code",
   "execution_count": 19,
   "metadata": {},
   "outputs": [],
   "source": [
    "#노래 ID 추출하기 - 지니의 경우 노래 id별로 url이 되어있어서 \n",
    "\n",
    "BB=AA.split('<')\n",
    "\n",
    "CC=BB[1]"
   ]
  },
  {
   "cell_type": "code",
   "execution_count": 20,
   "metadata": {},
   "outputs": [
    {
     "data": {
      "text/plain": [
       "'tr class=\"list\" songid=\"87270282\">\\n'"
      ]
     },
     "execution_count": 20,
     "metadata": {},
     "output_type": "execute_result"
    }
   ],
   "source": [
    "CC"
   ]
  },
  {
   "cell_type": "code",
   "execution_count": 21,
   "metadata": {},
   "outputs": [
    {
     "data": {
      "text/plain": [
       "16"
      ]
     },
     "execution_count": 21,
     "metadata": {},
     "output_type": "execute_result"
    }
   ],
   "source": [
    "CC.find('songid') #여기서 find하기 전에 search로 에러처리 해줘야"
   ]
  },
  {
   "cell_type": "code",
   "execution_count": 22,
   "metadata": {},
   "outputs": [
    {
     "data": {
      "text/plain": [
       "'\"'"
      ]
     },
     "execution_count": 22,
     "metadata": {},
     "output_type": "execute_result"
    }
   ],
   "source": [
    "CC[23]"
   ]
  },
  {
   "cell_type": "code",
   "execution_count": 23,
   "metadata": {},
   "outputs": [
    {
     "data": {
      "text/plain": [
       "\u001b[1;31mDocstring:\u001b[0m\n",
       "S.find(sub[, start[, end]]) -> int\n",
       "\n",
       "Return the lowest index in S where substring sub is found,\n",
       "such that sub is contained within S[start:end].  Optional\n",
       "arguments start and end are interpreted as in slice notation.\n",
       "\n",
       "Return -1 on failure.\n",
       "\u001b[1;31mType:\u001b[0m      builtin_function_or_method\n"
      ]
     },
     "metadata": {},
     "output_type": "display_data"
    }
   ],
   "source": [
    "?CC.find"
   ]
  },
  {
   "cell_type": "code",
   "execution_count": 24,
   "metadata": {},
   "outputs": [
    {
     "data": {
      "text/plain": [
       "32"
      ]
     },
     "execution_count": 24,
     "metadata": {},
     "output_type": "execute_result"
    }
   ],
   "source": [
    "CC.find('\"',24)"
   ]
  },
  {
   "cell_type": "code",
   "execution_count": 25,
   "metadata": {},
   "outputs": [],
   "source": [
    "SongID=CC[24:32] #근데 이렇게 안하고 그냥 숫자만 추출하기로 해도 되려나 싶음."
   ]
  },
  {
   "cell_type": "code",
   "execution_count": 26,
   "metadata": {},
   "outputs": [],
   "source": [
    "url = \"https://www.genie.co.kr/detail/songInfo?xgnm=\"+SongID"
   ]
  },
  {
   "cell_type": "code",
   "execution_count": 27,
   "metadata": {},
   "outputs": [],
   "source": [
    "browser.get(url)"
   ]
  },
  {
   "cell_type": "code",
   "execution_count": 28,
   "metadata": {},
   "outputs": [],
   "source": [
    "#songid로 지정된 페이지에서 파싱\n",
    "\n",
    "resp = requests.get(url, headers = headers)\n",
    "soup1 = BeautifulSoup(resp.text, 'html.parser')\n"
   ]
  },
  {
   "cell_type": "code",
   "execution_count": 29,
   "metadata": {},
   "outputs": [
    {
     "data": {
      "text/plain": [
       "[<h2 class=\"name\">\n",
       " \t\t\t\t\t\n",
       " \t\t\t\t\t빨간 맛 (Red Flavor)\n",
       " \t\t\t\t</h2>]"
      ]
     },
     "execution_count": 29,
     "metadata": {},
     "output_type": "execute_result"
    }
   ],
   "source": [
    "#곡 이름 추출\n",
    "soup1.find_all('h2', attrs={'class':'name'})"
   ]
  },
  {
   "cell_type": "code",
   "execution_count": 30,
   "metadata": {},
   "outputs": [
    {
     "data": {
      "text/plain": [
       "'\\n\\t\\t\\t\\t\\t\\n\\t\\t\\t\\t\\t빨간 맛 (Red Flavor)\\n\\t\\t\\t\\t'"
      ]
     },
     "execution_count": 30,
     "metadata": {},
     "output_type": "execute_result"
    }
   ],
   "source": [
    "FF=str(soup1.find_all('h2', attrs={'class':'name'})[0].text)\n",
    "FF"
   ]
  },
  {
   "cell_type": "code",
   "execution_count": 31,
   "metadata": {},
   "outputs": [
    {
     "name": "stdout",
     "output_type": "stream",
     "text": [
      "\n",
      "\t\t\t\t\t\n",
      "\t\t\t\t\t빨간 맛 (Red Flavor)\n",
      "\t\t\t\t\n"
     ]
    }
   ],
   "source": [
    "print(FF)"
   ]
  },
  {
   "cell_type": "code",
   "execution_count": 32,
   "metadata": {},
   "outputs": [
    {
     "name": "stdout",
     "output_type": "stream",
     "text": [
      "1\n",
      "\n",
      "\t\t\t\t\t\n",
      "\t\t\t\t\t빨간 맛 (Red Flavor)\n",
      "\t\t\t\t\n"
     ]
    }
   ],
   "source": [
    "kkk=FF.find(\"\\t\")\n",
    "print(kkk)\n",
    "print(FF)"
   ]
  },
  {
   "cell_type": "code",
   "execution_count": 33,
   "metadata": {},
   "outputs": [
    {
     "name": "stdout",
     "output_type": "stream",
     "text": [
      "빨간 맛 (Red Flavor)\n"
     ]
    }
   ],
   "source": [
    "#공백 없애기\n",
    "a=[]\n",
    "i=kkk\n",
    "done = False\n",
    "while done == False :\n",
    "    if i >= len(FF) :\n",
    "        done = True\n",
    "    elif FF[i:i+1]==\"\\t\" :\n",
    "        i+=2\n",
    "    else :\n",
    "        a.append(i)\n",
    "        i+=1\n",
    "b=\"\"\n",
    "for i in range(len(a)) :\n",
    "    b=b+FF[a[i]-1]\n",
    "  \n",
    "print(b)"
   ]
  },
  {
   "cell_type": "code",
   "execution_count": 34,
   "metadata": {},
   "outputs": [
    {
     "data": {
      "text/plain": [
       "[<span class=\"value\"><a href=\"#\" onclick=\"fnGoMore('artistInfo','80284018');return false;\">Red Velvet (레드벨벳)</a></span>,\n",
       " <span class=\"value\"><a href=\"#\" onclick=\"fnGoMore('albumInfo','80964658');return false;\">The Red Summer - Summer Mini Album</a></span>,\n",
       " <span class=\"value\">가요 / 댄스</span>,\n",
       " <span class=\"value\">03:11</span>,\n",
       " <span class=\"value\"><a href=\"#\" onclick=\"fnViewArtist('80292177'); return false;\">KENZIE</a></span>,\n",
       " <span class=\"value\"><a href=\"#\" onclick=\"fnViewArtist('80590951'); return false;\">Daniel Caesar</a>,<a href=\"#\" onclick=\"fnViewArtist('80590952'); return false;\">Ludwig Lindell</a></span>,\n",
       " <span class=\"value\"><a href=\"#\" onclick=\"fnViewArtist('80590954'); return false;\">Caesar &amp; Loui</a></span>]"
      ]
     },
     "execution_count": 34,
     "metadata": {},
     "output_type": "execute_result"
    }
   ],
   "source": [
    "#곡 관련 세부 정보 : 가수, 앨범, 장르, 재생시간, +a 순\n",
    "soup1.find_all('span', attrs={'class':'value'})"
   ]
  },
  {
   "cell_type": "code",
   "execution_count": 35,
   "metadata": {},
   "outputs": [
    {
     "data": {
      "text/plain": [
       "<span class=\"value\"><a href=\"#\" onclick=\"fnGoMore('artistInfo','80284018');return false;\">Red Velvet (레드벨벳)</a></span>"
      ]
     },
     "execution_count": 35,
     "metadata": {},
     "output_type": "execute_result"
    }
   ],
   "source": [
    "soup1.find_all('span', attrs={'class':'value'})[0]"
   ]
  },
  {
   "cell_type": "code",
   "execution_count": 36,
   "metadata": {},
   "outputs": [
    {
     "data": {
      "text/plain": [
       "<span class=\"value\">03:11</span>"
      ]
     },
     "execution_count": 36,
     "metadata": {},
     "output_type": "execute_result"
    }
   ],
   "source": [
    "soup1.find_all('span', attrs={'class':'value'})[3]"
   ]
  },
  {
   "cell_type": "code",
   "execution_count": 37,
   "metadata": {},
   "outputs": [],
   "source": [
    "DD=str(soup1.find_all('span', attrs={'class':'value'})[0])\n",
    "EE=str(soup1.find_all('span', attrs={'class':'value'})[3])\n",
    "\n",
    "t=EE.find(\":\")\n",
    "timetime=EE[t-2:t+3]"
   ]
  },
  {
   "cell_type": "code",
   "execution_count": 38,
   "metadata": {},
   "outputs": [
    {
     "data": {
      "text/plain": [
       "'Red Velvet (레드벨벳)</a'"
      ]
     },
     "execution_count": 38,
     "metadata": {},
     "output_type": "execute_result"
    }
   ],
   "source": [
    "GG=DD.split(\">\")[-3]\n",
    "GG"
   ]
  },
  {
   "cell_type": "code",
   "execution_count": 39,
   "metadata": {},
   "outputs": [],
   "source": [
    "aa=DD.split(\">\")[-3].find(\"<\")\n",
    "artistname=DD.split(\">\")[-3][:aa]"
   ]
  },
  {
   "cell_type": "code",
   "execution_count": 1,
   "metadata": {},
   "outputs": [
    {
     "ename": "NameError",
     "evalue": "name 'timetime' is not defined",
     "output_type": "error",
     "traceback": [
      "\u001b[1;31m---------------------------------------------------------------------------\u001b[0m",
      "\u001b[1;31mNameError\u001b[0m                                 Traceback (most recent call last)",
      "\u001b[1;32m<ipython-input-1-c2200d20f3b5>\u001b[0m in \u001b[0;36m<module>\u001b[1;34m\u001b[0m\n\u001b[1;32m----> 1\u001b[1;33m \u001b[0mprint\u001b[0m\u001b[1;33m(\u001b[0m\u001b[0mtimetime\u001b[0m\u001b[1;33m,\u001b[0m\u001b[0martistname\u001b[0m\u001b[1;33m)\u001b[0m\u001b[1;33m\u001b[0m\u001b[1;33m\u001b[0m\u001b[0m\n\u001b[0m",
      "\u001b[1;31mNameError\u001b[0m: name 'timetime' is not defined"
     ]
    }
   ],
   "source": [
    "print(timetime,artistname)"
   ]
  },
  {
   "cell_type": "code",
   "execution_count": 2,
   "metadata": {},
   "outputs": [
    {
     "name": "stdout",
     "output_type": "stream",
     "text": [
      "['d', 'c']\n"
     ]
    }
   ],
   "source": [
    "a=\"d\"\n",
    "b=\"c\"\n",
    "d=[a,b]\n",
    "print(d)"
   ]
  },
  {
   "cell_type": "markdown",
   "metadata": {},
   "source": [
    "테스트 결과 :\n",
    "\n",
    "1 user info를 입력하지 않았더니 보안 문제로 걸렸음\n",
    "2 셀레니움으로 클릭을 해야하나 했더니, 운이 좋게도 url 구조가 쉬워서 클릭 없이도 파싱할 수 있게 되었음\n",
    "3 "
   ]
  }
 ],
 "metadata": {
  "kernelspec": {
   "display_name": "Python 3",
   "language": "python",
   "name": "python3"
  },
  "language_info": {
   "codemirror_mode": {
    "name": "ipython",
    "version": 3
   },
   "file_extension": ".py",
   "mimetype": "text/x-python",
   "name": "python",
   "nbconvert_exporter": "python",
   "pygments_lexer": "ipython3",
   "version": "3.6.8"
  }
 },
 "nbformat": 4,
 "nbformat_minor": 2
}
